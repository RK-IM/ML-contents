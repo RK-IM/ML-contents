{
 "cells": [
  {
   "attachments": {},
   "cell_type": "markdown",
   "metadata": {},
   "source": [
    "This note includes dividing the original tiff file into tiles,  \n",
    "dividing the images into fold using GroupKFold with the name of the original file,  \n",
    "and saving this information."
   ]
  },
  {
   "attachments": {},
   "cell_type": "markdown",
   "metadata": {},
   "source": [
    "# Imports"
   ]
  },
  {
   "cell_type": "code",
   "execution_count": 1,
   "metadata": {},
   "outputs": [],
   "source": [
    "import cv2\n",
    "import numpy as np\n",
    "import pandas as pd\n",
    "\n",
    "import rasterio\n",
    "from sklearn.model_selection import GroupKFold\n",
    "\n",
    "from tqdm.notebook import tqdm\n",
    "\n",
    "from utils import (\n",
    "    rle_decode,\n",
    "    make_slices,\n",
    "    load_image_from_slice,\n",
    "    is_null_image,\n",
    ")\n",
    "\n",
    "from params import *\n",
    "\n",
    "import warnings\n",
    "warnings.filterwarnings('ignore')"
   ]
  },
  {
   "attachments": {},
   "cell_type": "markdown",
   "metadata": {},
   "source": [
    "# Load dataset\n",
    "train file contains rle label respect to tiff file name."
   ]
  },
  {
   "cell_type": "code",
   "execution_count": 2,
   "metadata": {},
   "outputs": [],
   "source": [
    "df_train = pd.read_csv(TRAIN_CSV)"
   ]
  },
  {
   "attachments": {},
   "cell_type": "markdown",
   "metadata": {},
   "source": [
    "# Split images and save"
   ]
  },
  {
   "cell_type": "code",
   "execution_count": null,
   "metadata": {},
   "outputs": [],
   "source": [
    "total = 0 # Count total slices\n",
    "valid = 0 # Count valid images\n",
    "# Calculate mean values for later image normalization.\n",
    "image_sum = [] # Mean of pixel values for each channel(RGB).\n",
    "image_sqsum = [] # Square mean of pixel values for each channel(RGB).\n",
    "\n",
    "for i, row in df_train.iterrows():\n",
    "    # Create folder for each tiff ids.\n",
    "    image_path = TILE_PATH / row['id']  / 'images'\n",
    "    mask_path = TILE_PATH / row['id']  / 'masks'\n",
    "    if not image_path.is_dir():\n",
    "        Path.mkdir(image_path, exist_ok=True, parents=True)\n",
    "    if not mask_path.is_dir():\n",
    "        Path.mkdir(mask_path, exist_ok=True, parents=True)\n",
    "\n",
    "    # open tiff file using rasterio package\n",
    "    tiff_file = TRAIN_PATH / (row['id'] + '.tiff')\n",
    "    dataset = rasterio.open(tiff_file)\n",
    "\n",
    "    # make slice and decode rle\n",
    "    slices = make_slices(dataset)\n",
    "    mask_tot = rle_decode(row['encoding'], dataset.shape)\n",
    "\n",
    "    tk0 = tqdm(enumerate(slices, 1), total=len(slices))\n",
    "    for idx, slice in tk0:\n",
    "        # for each slice created by `make_slices` function\n",
    "        total += 1\n",
    "        tk0.set_postfix(file=row['id'])\n",
    "        image = load_image_from_slice(dataset, slice)\n",
    "        # if most of image pixels are white or black, continue,\n",
    "        # otherwise, do.\n",
    "        if not is_null_image(image):\n",
    "            valid += 1\n",
    "            # save sliced image in tiff id folder.\n",
    "            cv2.imwrite(f\"{image_path}/{row['id']}_{idx}.png\", image)\n",
    "\n",
    "            # save sliced masked same coordinates of current image.\n",
    "            mask = mask_tot[slice[0]:slice[1], slice[2]:slice[3]]\n",
    "            cv2.imwrite(f\"{mask_path}/{row['id']}_{idx}.png\", mask*255.)\n",
    "\n",
    "            # record channel mean values\n",
    "            image_sum.append((image/255.).mean(axis=(0, 1)))\n",
    "            image_sqsum.append(((image/255.)**2).mean(axis=(0, 1)))\n",
    "\n",
    "# Calculate mean and standard deviation for later normalization.\n",
    "image_mean = np.mean(image_sum, axis=0)\n",
    "image_std = np.sqrt(np.mean(image_sqsum, axis=0) - image_mean**2)\n",
    "print(f\"{valid} / {total} images saved\")\n",
    "print(f\"Mean: {image_mean} \\nStdev: {image_std}\")"
   ]
  },
  {
   "attachments": {},
   "cell_type": "markdown",
   "metadata": {},
   "source": [
    "# Create Folds\n",
    "\n",
    "Get image path and tiff id from sliced images to create dataframe. Execute GroupKFold based on file name. This is because images from the same original tiff file may appear as data leakage."
   ]
  },
  {
   "cell_type": "code",
   "execution_count": null,
   "metadata": {},
   "outputs": [],
   "source": [
    "files_list = list(TILE_PATH.glob('./*/images/*.png'))\n",
    "ids = []\n",
    "ids_idx = []\n",
    "ids_path = []\n",
    "\n",
    "for pth in tqdm(files_list, total=len(files_list)):\n",
    "    ids.append(pth.parts[-3])\n",
    "    ids_idx.append(pth.stem)\n",
    "    ids_path.append(pth)"
   ]
  },
  {
   "cell_type": "code",
   "execution_count": null,
   "metadata": {},
   "outputs": [],
   "source": [
    "df_fold = pd.DataFrame.from_dict({'id': ids, 'id_idx': ids_idx, 'file_path': ids_path})\n",
    "\n",
    "gkf = GroupKFold(n_splits=N_SPLITS)\n",
    "df_fold['fold'] = -1\n",
    "\n",
    "for i, (t_idx, v_idx) in enumerate(gkf.split(df_fold, groups=df_fold['id'])):\n",
    "    df_fold.loc[v_idx, 'fold'] = i\n",
    "\n",
    "df_fold.to_csv(DATA_PATH / f'df_fold_{WINDOW}_{OVERLAP}.csv', index=False)"
   ]
  }
 ],
 "metadata": {
  "kernelspec": {
   "display_name": "torch",
   "language": "python",
   "name": "python3"
  },
  "language_info": {
   "codemirror_mode": {
    "name": "ipython",
    "version": 3
   },
   "file_extension": ".py",
   "mimetype": "text/x-python",
   "name": "python",
   "nbconvert_exporter": "python",
   "pygments_lexer": "ipython3",
   "version": "3.8.16"
  },
  "orig_nbformat": 4
 },
 "nbformat": 4,
 "nbformat_minor": 2
}
