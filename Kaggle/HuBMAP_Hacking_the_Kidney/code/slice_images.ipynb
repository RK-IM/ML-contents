{
 "cells": [
  {
   "cell_type": "code",
   "execution_count": 1,
   "metadata": {},
   "outputs": [],
   "source": [
    "import cv2\n",
    "import numpy as np\n",
    "import pandas as pd\n",
    "\n",
    "import rasterio\n",
    "from sklearn.model_selection import GroupKFold\n",
    "\n",
    "from tqdm.notebook import tqdm\n",
    "\n",
    "from utils import (\n",
    "    rle_decode,\n",
    "    make_slices,\n",
    "    load_image_from_slice,\n",
    "    is_null_image,\n",
    ")\n",
    "\n",
    "from params import *\n",
    "\n",
    "import warnings\n",
    "warnings.filterwarnings('ignore')"
   ]
  },
  {
   "cell_type": "code",
   "execution_count": 2,
   "metadata": {},
   "outputs": [],
   "source": [
    "df_train = pd.read_csv(TRAIN_CSV)"
   ]
  },
  {
   "cell_type": "code",
   "execution_count": 3,
   "metadata": {},
   "outputs": [
    {
     "data": {
      "application/vnd.jupyter.widget-view+json": {
       "model_id": "01241e8acdaf4eb8a73c670539ebe21b",
       "version_major": 2,
       "version_minor": 0
      },
      "text/plain": [
       "  0%|          | 0/1015 [00:00<?, ?it/s]"
      ]
     },
     "metadata": {},
     "output_type": "display_data"
    },
    {
     "data": {
      "application/vnd.jupyter.widget-view+json": {
       "model_id": "f039b7da0cc4414a9c19a1b81169ce6d",
       "version_major": 2,
       "version_minor": 0
      },
      "text/plain": [
       "  0%|          | 0/1750 [00:00<?, ?it/s]"
      ]
     },
     "metadata": {},
     "output_type": "display_data"
    },
    {
     "data": {
      "application/vnd.jupyter.widget-view+json": {
       "model_id": "ab24a2adaf1146cbab85b03aa04448e4",
       "version_major": 2,
       "version_minor": 0
      },
      "text/plain": [
       "  0%|          | 0/315 [00:00<?, ?it/s]"
      ]
     },
     "metadata": {},
     "output_type": "display_data"
    },
    {
     "data": {
      "application/vnd.jupyter.widget-view+json": {
       "model_id": "66fa1608179146afb90ab5d8d5420d64",
       "version_major": 2,
       "version_minor": 0
      },
      "text/plain": [
       "  0%|          | 0/2184 [00:00<?, ?it/s]"
      ]
     },
     "metadata": {},
     "output_type": "display_data"
    },
    {
     "data": {
      "application/vnd.jupyter.widget-view+json": {
       "model_id": "89252625ae2446c8ba042ead08ed4c89",
       "version_major": 2,
       "version_minor": 0
      },
      "text/plain": [
       "  0%|          | 0/1610 [00:00<?, ?it/s]"
      ]
     },
     "metadata": {},
     "output_type": "display_data"
    },
    {
     "data": {
      "application/vnd.jupyter.widget-view+json": {
       "model_id": "b10674682ba44a938cfa9666b5f1669f",
       "version_major": 2,
       "version_minor": 0
      },
      "text/plain": [
       "  0%|          | 0/595 [00:00<?, ?it/s]"
      ]
     },
     "metadata": {},
     "output_type": "display_data"
    },
    {
     "data": {
      "application/vnd.jupyter.widget-view+json": {
       "model_id": "463d3c512a074aef8b0a0e75c2ce0652",
       "version_major": 2,
       "version_minor": 0
      },
      "text/plain": [
       "  0%|          | 0/1131 [00:00<?, ?it/s]"
      ]
     },
     "metadata": {},
     "output_type": "display_data"
    },
    {
     "data": {
      "application/vnd.jupyter.widget-view+json": {
       "model_id": "7138dffc33524cf0afd2a17542e66249",
       "version_major": 2,
       "version_minor": 0
      },
      "text/plain": [
       "  0%|          | 0/589 [00:00<?, ?it/s]"
      ]
     },
     "metadata": {},
     "output_type": "display_data"
    },
    {
     "name": "stderr",
     "output_type": "stream",
     "text": [
      "Warning 1: TIFFReadDirectoryCheckOrder:Invalid TIFF directory; tags are not sorted in ascending order\n"
     ]
    },
    {
     "data": {
      "application/vnd.jupyter.widget-view+json": {
       "model_id": "6b5a03d872024ac7afe43654c03708d0",
       "version_major": 2,
       "version_minor": 0
      },
      "text/plain": [
       "  0%|          | 0/1892 [00:00<?, ?it/s]"
      ]
     },
     "metadata": {},
     "output_type": "display_data"
    },
    {
     "name": "stderr",
     "output_type": "stream",
     "text": [
      "Warning 1: ../data/train/095bf7a1f.tiff:Nonstandard tile length 298, convert file\n",
      "Warning 1: ../data/train/095bf7a1f.tiff:Nonstandard tile length 298, convert file\n",
      "Warning 1: ../data/train/095bf7a1f.tiff:Nonstandard tile width 152, convert file\n",
      "Warning 1: ../data/train/095bf7a1f.tiff:Nonstandard tile length 149, convert file\n",
      "Warning 1: ../data/train/095bf7a1f.tiff:Nonstandard tile width 152, convert file\n",
      "Warning 1: ../data/train/095bf7a1f.tiff:Nonstandard tile length 149, convert file\n"
     ]
    }
   ],
   "source": [
    "total = 0\n",
    "valid = 0\n",
    "image_sum = []\n",
    "image_sqsum = []\n",
    "\n",
    "for i, row in df_train.iterrows():\n",
    "    image_path = TILE_PATH / row['id']  / 'images'\n",
    "    mask_path = TILE_PATH / row['id']  / 'masks'\n",
    "    if not image_path.is_dir():\n",
    "        Path.mkdir(image_path, exist_ok=True, parents=True)\n",
    "    if not mask_path.is_dir():\n",
    "        Path.mkdir(mask_path, exist_ok=True, parents=True)\n",
    "\n",
    "    tiff_file = TRAIN_PATH / (row['id'] + '.tiff')\n",
    "    dataset = rasterio.open(tiff_file)\n",
    "\n",
    "    slices = make_slices(dataset)\n",
    "    mask_tot = rle_decode(row['encoding'], dataset.shape)\n",
    "\n",
    "    tk0 = tqdm(enumerate(slices, 1), total=len(slices))\n",
    "    for idx, slice in tk0:\n",
    "        total += 1\n",
    "        tk0.set_postfix(file=row['id'])\n",
    "        image = load_image_from_slice(dataset, slice)\n",
    "        if not is_null_image(image):\n",
    "            valid += 1\n",
    "            cv2.imwrite(f\"{image_path}/{row['id']}_{idx}.png\", image)\n",
    "\n",
    "            mask = mask_tot[slice[0]:slice[1], slice[2]:slice[3]]\n",
    "            cv2.imwrite(f\"{mask_path}/{row['id']}_{idx}.png\", mask*255.)\n",
    "\n",
    "            image_sum.append((image/255.).mean(axis=(0, 1)))\n",
    "            image_sqsum.append(((image/255.)**2).mean(axis=(0, 1)))\n",
    "\n",
    "image_mean = np.mean(image_sum, axis=0)\n",
    "image_std = np.sqrt(np.mean(image_sqsum, axis=0) - image_mean**2)\n",
    "print(f\"{valid} / {total} images saved\")\n",
    "print(f\"Mean: {image_mean} \\nStdev: {image_std}\")"
   ]
  },
  {
   "cell_type": "code",
   "execution_count": null,
   "metadata": {},
   "outputs": [],
   "source": [
    "files_list = list(TILE_PATH.glob('./*/images/*.png'))\n",
    "ids = []\n",
    "ids_idx = []\n",
    "ids_path = []\n",
    "\n",
    "for pth in tqdm(files_list, total=len(files_list)):\n",
    "    ids.append(pth.parts[-3])\n",
    "    ids_idx.append(pth.stem)\n",
    "    ids_path.append(pth)"
   ]
  },
  {
   "cell_type": "code",
   "execution_count": null,
   "metadata": {},
   "outputs": [],
   "source": [
    "df_fold = pd.DataFrame.from_dict({'id': ids, 'id_idx': ids_idx, 'file_path': ids_path})\n",
    "\n",
    "gkf = GroupKFold(n_splits=N_SPLITS)\n",
    "df_fold['fold'] = -1\n",
    "\n",
    "for i, (t_idx, v_idx) in enumerate(gkf.split(df_fold, groups=df_fold['id'])):\n",
    "    df_fold.loc[v_idx, 'fold'] = i\n",
    "\n",
    "df_fold.to_csv(DATA_PATH / f'df_fold_{WINDOW}_{OVERLAP}.csv', index=False)"
   ]
  }
 ],
 "metadata": {
  "kernelspec": {
   "display_name": "torch",
   "language": "python",
   "name": "torch"
  },
  "language_info": {
   "codemirror_mode": {
    "name": "ipython",
    "version": 3
   },
   "file_extension": ".py",
   "mimetype": "text/x-python",
   "name": "python",
   "nbconvert_exporter": "python",
   "pygments_lexer": "ipython3",
   "version": "3.8.16"
  },
  "orig_nbformat": 4
 },
 "nbformat": 4,
 "nbformat_minor": 2
}
