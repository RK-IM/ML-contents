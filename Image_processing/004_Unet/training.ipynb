{
  "cells": [
    {
      "cell_type": "code",
      "execution_count": null,
      "metadata": {
        "id": "b_dOGdI-CR8w"
      },
      "outputs": [],
      "source": [
        "import datetime\n",
        "from pathlib import Path\n",
        "\n",
        "import torch\n",
        "\n",
        "from main import main\n",
        "from utils import save_config\n",
        "from params import TRAIN_PATH"
      ]
    },
    {
      "cell_type": "code",
      "execution_count": null,
      "metadata": {
        "id": "sFY3HCkUCR8y"
      },
      "outputs": [],
      "source": [
        "today = datetime.datetime.today().strftime(\"%Y_%m_%d\")\n",
        "today_path = Path(f'./logs/{today}/')\n",
        "\n",
        "if not today_path.is_dir():\n",
        "    Path.mkdir(today_path, exist_ok=True, parents=True)\n",
        "\n",
        "exp_num = str(len(list(today_path.iterdir())))\n",
        "exp_path = today_path / exp_num\n",
        "\n",
        "if not exp_path.is_dir():\n",
        "    Path.mkdir(exp_path, exist_ok=True, parents=True)"
      ]
    },
    {
      "cell_type": "code",
      "execution_count": null,
      "metadata": {
        "id": "XjscyTvICR8y"
      },
      "outputs": [],
      "source": [
        "class Config:\n",
        "    seed = 42\n",
        "    log_dir = str(exp_path)\n",
        "    data_path = TRAIN_PATH\n",
        "\n",
        "    height = 128\n",
        "    width = 128\n",
        "\n",
        "    num_workers = 2\n",
        "    batch_size = 32\n",
        "\n",
        "    lr = 1e-3\n",
        "    epochs = 100\n",
        "    decay = 0\n",
        "\n",
        "    early_stop = True\n",
        "    early_stop_patience = 15\n",
        "\n",
        "    device = 'cuda' if torch.cuda.is_available() else 'cpu'"
      ]
    },
    {
      "cell_type": "code",
      "execution_count": null,
      "metadata": {
        "id": "eDn8dmbzCR8z",
        "outputId": "9ccba8b5-668a-46bb-ef19-886887a96aec"
      },
      "outputs": [
        {
          "name": "stdout",
          "output_type": "stream",
          "text": [
            "Done!\n",
            "Valid Loss: 0.05225 | Valid IoU: 0.8435 | Total time: 508s\n",
            "Trained model save at logs/2023_07_19/0/model.pth\n"
          ]
        }
      ],
      "source": [
        "save_config(Config, Config.log_dir + '/config.json')\n",
        "main(Config)"
      ]
    }
  ],
  "metadata": {
    "kernelspec": {
      "display_name": "PyTorch",
      "language": "python",
      "name": "torch"
    },
    "language_info": {
      "codemirror_mode": {
        "name": "ipython",
        "version": 3
      },
      "file_extension": ".py",
      "mimetype": "text/x-python",
      "name": "python",
      "nbconvert_exporter": "python",
      "pygments_lexer": "ipython3",
      "version": "3.8.13"
    },
    "orig_nbformat": 4,
    "colab": {
      "provenance": []
    }
  },
  "nbformat": 4,
  "nbformat_minor": 0
}