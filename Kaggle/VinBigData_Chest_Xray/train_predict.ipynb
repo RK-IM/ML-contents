{
 "cells": [
  {
   "cell_type": "code",
   "execution_count": 1,
   "metadata": {},
   "outputs": [],
   "source": [
    "import sys\n",
    "sys.path.append(\"../timm-efficientdet-pytorch\")\n",
    "\n",
    "import os\n",
    "\n",
    "import pandas as pd\n",
    "\n",
    "import torch\n",
    "from torch.utils.data import DataLoader\n",
    "import pytorch_lightning as pl\n",
    "from pytorch_lightning.callbacks import EarlyStopping\n",
    "\n",
    "from dataset import (\n",
    "    XrayClassifyAdaptor,\n",
    "    XrayDetectAdaptor,\n",
    "    XrayInferenceAdaptor,\n",
    "    XrayInferenceDataset\n",
    ")\n",
    "from datamodules import (\n",
    "    XrayClassifyDataModule,\n",
    "    XrayDetectDataModule,\n",
    ")\n",
    "from models import XrayClassifier, XrayDetector\n",
    "\n",
    "import warnings\n",
    "warnings.filterwarnings(\"ignore\")\n",
    "\n",
    "torch.set_float32_matmul_precision(\"medium\")"
   ]
  },
  {
   "cell_type": "code",
   "execution_count": 2,
   "metadata": {},
   "outputs": [
    {
     "name": "stderr",
     "output_type": "stream",
     "text": [
      "Global seed set to 0\n"
     ]
    },
    {
     "data": {
      "text/plain": [
       "0"
      ]
     },
     "execution_count": 2,
     "metadata": {},
     "output_type": "execute_result"
    }
   ],
   "source": [
    "DATA_DIR = \"../data\"\n",
    "TRAIN_DF = \"train_wbf.csv\"\n",
    "TRAIN_META = \"train_meta.csv\"\n",
    "TEST_META = \"test_meta.csv\"\n",
    "\n",
    "TRAIN_IMG_PATH = \"train_512\"\n",
    "TEST_PATH = os.path.join(DATA_DIR, \"test_512\")\n",
    "\n",
    "device = \"cuda\" if torch.cuda.is_available() else \"cpu\"\n",
    "\n",
    "train_df = pd.read_csv(os.path.join(DATA_DIR, TRAIN_DF))\n",
    "train_meta = pd.read_csv(os.path.join(DATA_DIR, TRAIN_META))\n",
    "images_dir = os.path.join(DATA_DIR, TRAIN_IMG_PATH)\n",
    "test_meta = pd.read_csv(os.path.join(DATA_DIR, TEST_META))\n",
    "\n",
    "pl.seed_everything(0)"
   ]
  },
  {
   "cell_type": "markdown",
   "metadata": {},
   "source": [
    "# Classify"
   ]
  },
  {
   "cell_type": "markdown",
   "metadata": {},
   "source": [
    "## Train"
   ]
  },
  {
   "cell_type": "code",
   "execution_count": 3,
   "metadata": {},
   "outputs": [
    {
     "name": "stderr",
     "output_type": "stream",
     "text": [
      "Using 16bit Automatic Mixed Precision (AMP)\n",
      "GPU available: True (cuda), used: True\n",
      "TPU available: False, using: 0 TPU cores\n",
      "IPU available: False, using: 0 IPUs\n",
      "HPU available: False, using: 0 HPUs\n",
      "Missing logger folder: /home/rg_im/Documents/coding/kaggle/VinBigData_Chest_Xray/code/lightning_logs\n",
      "LOCAL_RANK: 0 - CUDA_VISIBLE_DEVICES: [0]\n",
      "\n",
      "  | Name    | Type         | Params\n",
      "-----------------------------------------\n",
      "0 | model   | EfficientNet | 4.0 M \n",
      "1 | metrics | ModuleDict   | 0     \n",
      "-----------------------------------------\n",
      "4.0 M     Trainable params\n",
      "0         Non-trainable params\n",
      "4.0 M     Total params\n",
      "16.035    Total estimated model params size (MB)\n"
     ]
    },
    {
     "data": {
      "application/vnd.jupyter.widget-view+json": {
       "model_id": "08d36748202747c48e2526d9f2a383a1",
       "version_major": 2,
       "version_minor": 0
      },
      "text/plain": [
       "Sanity Checking: 0it [00:00, ?it/s]"
      ]
     },
     "metadata": {},
     "output_type": "display_data"
    },
    {
     "data": {
      "application/vnd.jupyter.widget-view+json": {
       "model_id": "69605a062a5244388d46f7edd137d8ad",
       "version_major": 2,
       "version_minor": 0
      },
      "text/plain": [
       "Training: 0it [00:00, ?it/s]"
      ]
     },
     "metadata": {},
     "output_type": "display_data"
    },
    {
     "data": {
      "application/vnd.jupyter.widget-view+json": {
       "model_id": "9aa852def27c4566a333fc0b025a31b1",
       "version_major": 2,
       "version_minor": 0
      },
      "text/plain": [
       "Validation: 0it [00:00, ?it/s]"
      ]
     },
     "metadata": {},
     "output_type": "display_data"
    },
    {
     "data": {
      "application/vnd.jupyter.widget-view+json": {
       "model_id": "8b29c599993e4ad68570f9c3a5881505",
       "version_major": 2,
       "version_minor": 0
      },
      "text/plain": [
       "Validation: 0it [00:00, ?it/s]"
      ]
     },
     "metadata": {},
     "output_type": "display_data"
    },
    {
     "data": {
      "application/vnd.jupyter.widget-view+json": {
       "model_id": "70a361133eba4c2ca97d9a23c996ad09",
       "version_major": 2,
       "version_minor": 0
      },
      "text/plain": [
       "Validation: 0it [00:00, ?it/s]"
      ]
     },
     "metadata": {},
     "output_type": "display_data"
    },
    {
     "data": {
      "application/vnd.jupyter.widget-view+json": {
       "model_id": "4fe68f86c4fb453faf31aeec0929e6bb",
       "version_major": 2,
       "version_minor": 0
      },
      "text/plain": [
       "Validation: 0it [00:00, ?it/s]"
      ]
     },
     "metadata": {},
     "output_type": "display_data"
    },
    {
     "data": {
      "application/vnd.jupyter.widget-view+json": {
       "model_id": "9c759bc162b74d6ea9b60d31d149afb4",
       "version_major": 2,
       "version_minor": 0
      },
      "text/plain": [
       "Validation: 0it [00:00, ?it/s]"
      ]
     },
     "metadata": {},
     "output_type": "display_data"
    },
    {
     "name": "stderr",
     "output_type": "stream",
     "text": [
      "`Trainer.fit` stopped: `max_epochs=5` reached.\n"
     ]
    }
   ],
   "source": [
    "xca = XrayClassifyAdaptor(images_dir, train_df, train_meta)\n",
    "xia = XrayInferenceAdaptor(TEST_PATH, test_meta)\n",
    "xcm = XrayClassifyDataModule(xca)\n",
    "\n",
    "classifier = XrayClassifier(model_name=\"tf_efficientnet_b0\")\n",
    "\n",
    "callbacks = [EarlyStopping(monitor=\"val_loss\", patience=3, mode=\"min\")]\n",
    "\n",
    "trainer = pl.Trainer(accelerator=\"auto\",\n",
    "           devices=\"auto\",\n",
    "           precision=\"16-mixed\",\n",
    "           max_epochs=5,\n",
    "           callbacks=callbacks)\n",
    "\n",
    "trainer.fit(classifier, xcm)"
   ]
  },
  {
   "cell_type": "markdown",
   "metadata": {},
   "source": [
    "# Predict"
   ]
  },
  {
   "cell_type": "code",
   "execution_count": 4,
   "metadata": {},
   "outputs": [
    {
     "name": "stderr",
     "output_type": "stream",
     "text": [
      "LOCAL_RANK: 0 - CUDA_VISIBLE_DEVICES: [0]\n"
     ]
    },
    {
     "data": {
      "application/vnd.jupyter.widget-view+json": {
       "model_id": "981704eee2f14536aa39863fcf8b4edb",
       "version_major": 2,
       "version_minor": 0
      },
      "text/plain": [
       "Predicting: 0it [00:00, ?it/s]"
      ]
     },
     "metadata": {},
     "output_type": "display_data"
    }
   ],
   "source": [
    "pred_ds_clf = XrayInferenceDataset(xia)\n",
    "pred_dl_clf = DataLoader(pred_ds_clf, batch_size=64, num_workers=8, shuffle=False)\n",
    "\n",
    "trainer.predict(classifier, dataloaders=pred_dl_clf);\n",
    "clf_result = classifier.predict_result.copy()"
   ]
  },
  {
   "cell_type": "markdown",
   "metadata": {},
   "source": [
    "---"
   ]
  },
  {
   "cell_type": "markdown",
   "metadata": {},
   "source": [
    "# Detect"
   ]
  },
  {
   "cell_type": "markdown",
   "metadata": {},
   "source": [
    "## Train"
   ]
  },
  {
   "cell_type": "code",
   "execution_count": 5,
   "metadata": {},
   "outputs": [
    {
     "name": "stderr",
     "output_type": "stream",
     "text": [
      "Using 16bit Automatic Mixed Precision (AMP)\n",
      "GPU available: True (cuda), used: True\n",
      "TPU available: False, using: 0 TPU cores\n",
      "IPU available: False, using: 0 IPUs\n",
      "HPU available: False, using: 0 HPUs\n",
      "LOCAL_RANK: 0 - CUDA_VISIBLE_DEVICES: [0]\n",
      "\n",
      "  | Name  | Type          | Params\n",
      "----------------------------------------\n",
      "0 | model | DetBenchTrain | 27.7 M\n",
      "----------------------------------------\n",
      "27.7 M    Trainable params\n",
      "0         Non-trainable params\n",
      "27.7 M    Total params\n",
      "110.983   Total estimated model params size (MB)\n"
     ]
    },
    {
     "data": {
      "application/vnd.jupyter.widget-view+json": {
       "model_id": "224b61340e1c4ded821ba35cb2d7adb2",
       "version_major": 2,
       "version_minor": 0
      },
      "text/plain": [
       "Sanity Checking: 0it [00:00, ?it/s]"
      ]
     },
     "metadata": {},
     "output_type": "display_data"
    },
    {
     "data": {
      "application/vnd.jupyter.widget-view+json": {
       "model_id": "9d6319f4b17b4f239bb5e130be772177",
       "version_major": 2,
       "version_minor": 0
      },
      "text/plain": [
       "Training: 0it [00:00, ?it/s]"
      ]
     },
     "metadata": {},
     "output_type": "display_data"
    },
    {
     "data": {
      "application/vnd.jupyter.widget-view+json": {
       "model_id": "ff02438373cd4177acb19abccbea510b",
       "version_major": 2,
       "version_minor": 0
      },
      "text/plain": [
       "Validation: 0it [00:00, ?it/s]"
      ]
     },
     "metadata": {},
     "output_type": "display_data"
    },
    {
     "data": {
      "application/vnd.jupyter.widget-view+json": {
       "model_id": "853f8d9e035d40dfb82c968c8b154d4b",
       "version_major": 2,
       "version_minor": 0
      },
      "text/plain": [
       "Validation: 0it [00:00, ?it/s]"
      ]
     },
     "metadata": {},
     "output_type": "display_data"
    },
    {
     "data": {
      "application/vnd.jupyter.widget-view+json": {
       "model_id": "5f99693fd6b546b693d0663c1738e71e",
       "version_major": 2,
       "version_minor": 0
      },
      "text/plain": [
       "Validation: 0it [00:00, ?it/s]"
      ]
     },
     "metadata": {},
     "output_type": "display_data"
    },
    {
     "data": {
      "application/vnd.jupyter.widget-view+json": {
       "model_id": "e0e1d58d8ec94d3c96fa6b12c1709777",
       "version_major": 2,
       "version_minor": 0
      },
      "text/plain": [
       "Validation: 0it [00:00, ?it/s]"
      ]
     },
     "metadata": {},
     "output_type": "display_data"
    },
    {
     "data": {
      "application/vnd.jupyter.widget-view+json": {
       "model_id": "c91989d079cc43fca0374beb86854443",
       "version_major": 2,
       "version_minor": 0
      },
      "text/plain": [
       "Validation: 0it [00:00, ?it/s]"
      ]
     },
     "metadata": {},
     "output_type": "display_data"
    },
    {
     "data": {
      "application/vnd.jupyter.widget-view+json": {
       "model_id": "d1c143c986d9421ca4d04536d61b01d8",
       "version_major": 2,
       "version_minor": 0
      },
      "text/plain": [
       "Validation: 0it [00:00, ?it/s]"
      ]
     },
     "metadata": {},
     "output_type": "display_data"
    },
    {
     "data": {
      "application/vnd.jupyter.widget-view+json": {
       "model_id": "b49b1b539067433db7d02c4220395e67",
       "version_major": 2,
       "version_minor": 0
      },
      "text/plain": [
       "Validation: 0it [00:00, ?it/s]"
      ]
     },
     "metadata": {},
     "output_type": "display_data"
    },
    {
     "data": {
      "application/vnd.jupyter.widget-view+json": {
       "model_id": "d4cea917a891400ea2dc29f3c6ec4cc4",
       "version_major": 2,
       "version_minor": 0
      },
      "text/plain": [
       "Validation: 0it [00:00, ?it/s]"
      ]
     },
     "metadata": {},
     "output_type": "display_data"
    },
    {
     "data": {
      "application/vnd.jupyter.widget-view+json": {
       "model_id": "ff3272f8d97e46979f144d335f6f7654",
       "version_major": 2,
       "version_minor": 0
      },
      "text/plain": [
       "Validation: 0it [00:00, ?it/s]"
      ]
     },
     "metadata": {},
     "output_type": "display_data"
    },
    {
     "data": {
      "application/vnd.jupyter.widget-view+json": {
       "model_id": "2deb79eb5586492d903296fbfb64378f",
       "version_major": 2,
       "version_minor": 0
      },
      "text/plain": [
       "Validation: 0it [00:00, ?it/s]"
      ]
     },
     "metadata": {},
     "output_type": "display_data"
    },
    {
     "data": {
      "application/vnd.jupyter.widget-view+json": {
       "model_id": "70686b696ab8409c91dba00efe148164",
       "version_major": 2,
       "version_minor": 0
      },
      "text/plain": [
       "Validation: 0it [00:00, ?it/s]"
      ]
     },
     "metadata": {},
     "output_type": "display_data"
    },
    {
     "data": {
      "application/vnd.jupyter.widget-view+json": {
       "model_id": "ca173340a6fb48f39110d8b8195404e6",
       "version_major": 2,
       "version_minor": 0
      },
      "text/plain": [
       "Validation: 0it [00:00, ?it/s]"
      ]
     },
     "metadata": {},
     "output_type": "display_data"
    },
    {
     "data": {
      "application/vnd.jupyter.widget-view+json": {
       "model_id": "41c8da319afe464bace61882913d3d61",
       "version_major": 2,
       "version_minor": 0
      },
      "text/plain": [
       "Validation: 0it [00:00, ?it/s]"
      ]
     },
     "metadata": {},
     "output_type": "display_data"
    }
   ],
   "source": [
    "xda_tr = XrayDetectAdaptor(images_dir, train_df, train_meta, train=True)\n",
    "xda_vl = XrayDetectAdaptor(images_dir, train_df, train_meta, train=False)\n",
    "xdm = XrayDetectDataModule(xda_tr, xda_vl, batch_size=8)\n",
    "\n",
    "detector = XrayDetector(architecture=\"tf_efficientnet_b5\")\n",
    "\n",
    "callbacks = [EarlyStopping(monitor=\"valid_loss\", patience=10, mode=\"min\")]\n",
    "\n",
    "trainer = pl.Trainer(accelerator=\"auto\",\n",
    "                     precision=\"16-mixed\",\n",
    "                     devices=\"auto\",\n",
    "                     min_epochs=20,\n",
    "                     max_epochs=100,\n",
    "                     callbacks=callbacks)\n",
    "trainer.fit(model=detector, datamodule=xdm)"
   ]
  },
  {
   "cell_type": "markdown",
   "metadata": {},
   "source": [
    "## Predict"
   ]
  },
  {
   "cell_type": "code",
   "execution_count": null,
   "metadata": {},
   "outputs": [
    {
     "name": "stderr",
     "output_type": "stream",
     "text": [
      "LOCAL_RANK: 0 - CUDA_VISIBLE_DEVICES: [0]\n"
     ]
    },
    {
     "data": {
      "application/vnd.jupyter.widget-view+json": {
       "model_id": "3448dc27cfab43ec96ede40713226fc0",
       "version_major": 2,
       "version_minor": 0
      },
      "text/plain": [
       "Predicting: 0it [00:00, ?it/s]"
      ]
     },
     "metadata": {},
     "output_type": "display_data"
    }
   ],
   "source": [
    "xia = XrayInferenceAdaptor(TEST_PATH, test_meta)\n",
    "pred_ds_det = XrayInferenceDataset(xia)\n",
    "pred_dl_det = DataLoader(pred_ds_det, batch_size=64, num_workers=8, shuffle=False)\n",
    "\n",
    "trainer.predict(model=detector, dataloaders=pred_dl_det)\n",
    "det_result = detector.predict_result.copy()"
   ]
  },
  {
   "cell_type": "markdown",
   "metadata": {},
   "source": [
    "# post-process"
   ]
  },
  {
   "cell_type": "code",
   "execution_count": null,
   "metadata": {},
   "outputs": [],
   "source": [
    "# label, type, coordinates match\n",
    "det_result[\"image_id\"] = det_result[\"image_id\"].map(lambda x: x.split(\".\")[0])\n",
    "det_result[\"labels\"] = det_result[\"labels\"].map(lambda x: [int(y-1) for y in x] if sum(x) > 0 else [14])\n",
    "det_result[\"confidences\"] = det_result[\"confidences\"].map(lambda x: [1] if sum(x)==0 else x)\n",
    "det_result[\"box_coordinates\"] = det_result[\"box_coordinates\"] \\\n",
    "    .map(lambda x: [[0, 0, 1, 1]] if x == [[0, 0, 0, 0]] \n",
    "                                  else [list(map(int, y)) for y in x])\n",
    "\n",
    "# convert to submission formet\n",
    "results = {}\n",
    "for _, row in det_result.iterrows():\n",
    "    ans = \"\"\n",
    "    temp = list(zip(row[\"labels\"], row[\"confidences\"], row[\"box_coordinates\"]))\n",
    "    for i in range(len(temp)):\n",
    "        ans += \" \".join(map(str, temp[i][:2])) + \" \" + \" \".join(map(str, temp[i][2])) + \" \"\n",
    "    ans = ans.rstrip()\n",
    "    results[row[\"image_id\"]] = ans\n",
    "\n",
    "results = pd.DataFrame([results]).T \\\n",
    "    .reset_index() \\\n",
    "    .rename(columns={\"index\": \"image_id\", 0: \"PredictionString\"}) \\\n",
    "    .sort_values(\"image_id\").reset_index(drop=True)\n",
    "\n",
    "# only detector\n",
    "results.to_csv(\"submission_one_stage.csv\", index=False)\n",
    "\n",
    "clf_result = pd.DataFrame([clf_result]).T \\\n",
    "    .reset_index() \\\n",
    "    .rename(columns={\"index\": \"image_id\", 0: \"pred\"}) \\\n",
    "    .sort_values(\"image_id\").reset_index(drop=True)\n",
    "\n",
    "# classifier + detector\n",
    "results_ts = results.merge(clf_result, on=\"image_id\")\n",
    "results_ts.loc[results_ts[\"pred\"] < 0.5, \"PredictionString\"] = \"14 1 0 0 1 1\"\n",
    "results_ts = results_ts[[\"image_id\", \"PredictionString\"]]\n",
    "results_ts.to_csv(\"submission_two_stage.csv\", index=False)"
   ]
  },
  {
   "cell_type": "code",
   "execution_count": null,
   "metadata": {},
   "outputs": [
    {
     "data": {
      "text/html": [
       "<div>\n",
       "<style scoped>\n",
       "    .dataframe tbody tr th:only-of-type {\n",
       "        vertical-align: middle;\n",
       "    }\n",
       "\n",
       "    .dataframe tbody tr th {\n",
       "        vertical-align: top;\n",
       "    }\n",
       "\n",
       "    .dataframe thead th {\n",
       "        text-align: right;\n",
       "    }\n",
       "</style>\n",
       "<table border=\"1\" class=\"dataframe\">\n",
       "  <thead>\n",
       "    <tr style=\"text-align: right;\">\n",
       "      <th></th>\n",
       "      <th>image_id</th>\n",
       "      <th>PredictionString</th>\n",
       "    </tr>\n",
       "  </thead>\n",
       "  <tbody>\n",
       "    <tr>\n",
       "      <th>0</th>\n",
       "      <td>002a34c58c5b758217ed1f584ccbcfe9</td>\n",
       "      <td>14 1 0 0 1 1</td>\n",
       "    </tr>\n",
       "    <tr>\n",
       "      <th>1</th>\n",
       "      <td>004f33259ee4aef671c2b95d54e4be68</td>\n",
       "      <td>0 0.82958984375 1258 579 1528 893 0 0.44970703...</td>\n",
       "    </tr>\n",
       "    <tr>\n",
       "      <th>2</th>\n",
       "      <td>008bdde2af2462e86fd373a445d0f4cd</td>\n",
       "      <td>0 0.7734375 1426 826 1755 1192 3 0.77001953125...</td>\n",
       "    </tr>\n",
       "    <tr>\n",
       "      <th>3</th>\n",
       "      <td>009bc039326338823ca3aa84381f17f1</td>\n",
       "      <td>0 0.7939453125 989 488 1215 740 3 0.6547851562...</td>\n",
       "    </tr>\n",
       "    <tr>\n",
       "      <th>4</th>\n",
       "      <td>00a2145de1886cb9eb88869c85d74080</td>\n",
       "      <td>0 0.82861328125 1109 710 1347 945 3 0.77734375...</td>\n",
       "    </tr>\n",
       "  </tbody>\n",
       "</table>\n",
       "</div>"
      ],
      "text/plain": [
       "                           image_id  \\\n",
       "0  002a34c58c5b758217ed1f584ccbcfe9   \n",
       "1  004f33259ee4aef671c2b95d54e4be68   \n",
       "2  008bdde2af2462e86fd373a445d0f4cd   \n",
       "3  009bc039326338823ca3aa84381f17f1   \n",
       "4  00a2145de1886cb9eb88869c85d74080   \n",
       "\n",
       "                                    PredictionString  \n",
       "0                                       14 1 0 0 1 1  \n",
       "1  0 0.82958984375 1258 579 1528 893 0 0.44970703...  \n",
       "2  0 0.7734375 1426 826 1755 1192 3 0.77001953125...  \n",
       "3  0 0.7939453125 989 488 1215 740 3 0.6547851562...  \n",
       "4  0 0.82861328125 1109 710 1347 945 3 0.77734375...  "
      ]
     },
     "execution_count": 9,
     "metadata": {},
     "output_type": "execute_result"
    }
   ],
   "source": [
    "results.head()"
   ]
  },
  {
   "cell_type": "code",
   "execution_count": null,
   "metadata": {},
   "outputs": [
    {
     "data": {
      "text/html": [
       "<div>\n",
       "<style scoped>\n",
       "    .dataframe tbody tr th:only-of-type {\n",
       "        vertical-align: middle;\n",
       "    }\n",
       "\n",
       "    .dataframe tbody tr th {\n",
       "        vertical-align: top;\n",
       "    }\n",
       "\n",
       "    .dataframe thead th {\n",
       "        text-align: right;\n",
       "    }\n",
       "</style>\n",
       "<table border=\"1\" class=\"dataframe\">\n",
       "  <thead>\n",
       "    <tr style=\"text-align: right;\">\n",
       "      <th></th>\n",
       "      <th>image_id</th>\n",
       "      <th>PredictionString</th>\n",
       "    </tr>\n",
       "  </thead>\n",
       "  <tbody>\n",
       "    <tr>\n",
       "      <th>0</th>\n",
       "      <td>002a34c58c5b758217ed1f584ccbcfe9</td>\n",
       "      <td>14 1 0 0 1 1</td>\n",
       "    </tr>\n",
       "    <tr>\n",
       "      <th>1</th>\n",
       "      <td>004f33259ee4aef671c2b95d54e4be68</td>\n",
       "      <td>14 1 0 0 1 1</td>\n",
       "    </tr>\n",
       "    <tr>\n",
       "      <th>2</th>\n",
       "      <td>008bdde2af2462e86fd373a445d0f4cd</td>\n",
       "      <td>0 0.7734375 1426 826 1755 1192 3 0.77001953125...</td>\n",
       "    </tr>\n",
       "    <tr>\n",
       "      <th>3</th>\n",
       "      <td>009bc039326338823ca3aa84381f17f1</td>\n",
       "      <td>14 1 0 0 1 1</td>\n",
       "    </tr>\n",
       "    <tr>\n",
       "      <th>4</th>\n",
       "      <td>00a2145de1886cb9eb88869c85d74080</td>\n",
       "      <td>0 0.82861328125 1109 710 1347 945 3 0.77734375...</td>\n",
       "    </tr>\n",
       "  </tbody>\n",
       "</table>\n",
       "</div>"
      ],
      "text/plain": [
       "                           image_id  \\\n",
       "0  002a34c58c5b758217ed1f584ccbcfe9   \n",
       "1  004f33259ee4aef671c2b95d54e4be68   \n",
       "2  008bdde2af2462e86fd373a445d0f4cd   \n",
       "3  009bc039326338823ca3aa84381f17f1   \n",
       "4  00a2145de1886cb9eb88869c85d74080   \n",
       "\n",
       "                                    PredictionString  \n",
       "0                                       14 1 0 0 1 1  \n",
       "1                                       14 1 0 0 1 1  \n",
       "2  0 0.7734375 1426 826 1755 1192 3 0.77001953125...  \n",
       "3                                       14 1 0 0 1 1  \n",
       "4  0 0.82861328125 1109 710 1347 945 3 0.77734375...  "
      ]
     },
     "execution_count": 8,
     "metadata": {},
     "output_type": "execute_result"
    }
   ],
   "source": [
    "results_ts.head()"
   ]
  }
 ],
 "metadata": {
  "kernelspec": {
   "display_name": "torch",
   "language": "python",
   "name": "python3"
  },
  "language_info": {
   "codemirror_mode": {
    "name": "ipython",
    "version": 3
   },
   "file_extension": ".py",
   "mimetype": "text/x-python",
   "name": "python",
   "nbconvert_exporter": "python",
   "pygments_lexer": "ipython3",
   "version": "3.8.13"
  },
  "orig_nbformat": 4
 },
 "nbformat": 4,
 "nbformat_minor": 2
}
