{
 "cells": [
  {
   "cell_type": "code",
   "execution_count": 1,
   "metadata": {},
   "outputs": [],
   "source": [
    "import datetime\n",
    "from pathlib import Path\n",
    "\n",
    "import torch\n",
    "import segmentation_models_pytorch as smp\n",
    "\n",
    "from main import main\n",
    "from utils import save_config"
   ]
  },
  {
   "cell_type": "code",
   "execution_count": 2,
   "metadata": {},
   "outputs": [],
   "source": [
    "today = datetime.datetime.today().strftime(\"%Y_%m_%d\")\n",
    "today_path = Path(f'../logs/{today}/')\n",
    "\n",
    "if not today_path.is_dir():\n",
    "    Path.mkdir(today_path, exist_ok=True, parents=True)\n",
    "\n",
    "exp_num = str(len(list(today_path.iterdir())))\n",
    "exp_path = today_path / exp_num\n",
    "\n",
    "if not exp_path.is_dir():\n",
    "    Path.mkdir(exp_path, exist_ok=True, parents=True)"
   ]
  },
  {
   "cell_type": "code",
   "execution_count": 3,
   "metadata": {},
   "outputs": [],
   "source": [
    "class Config:\n",
    "    # general\n",
    "    seed = 42\n",
    "    log_dir = str(exp_path)\n",
    "\n",
    "    # torch\n",
    "    device = 'cuda' if torch.cuda.is_available() else 'cpu'\n",
    "    use_amp = True\n",
    "\n",
    "    # image\n",
    "    window = 1024\n",
    "    reduce = 4\n",
    "    overlap = 128\n",
    "\n",
    "    # model\n",
    "    decoder_name = 'Unet'\n",
    "    encoder_name = 'timm-efficientnet-b1'\n",
    "    encoder_weights = 'noisy-student'\n",
    "\n",
    "    # dataset\n",
    "    nb_splits = 5\n",
    "    fold = [0, 1, 2, 3, 4]\n",
    "    num_workers = 2\n",
    "\n",
    "    # training\n",
    "    epochs = 30\n",
    "    lr = 3e-4\n",
    "    train_batch_size = 32\n",
    "    valid_batch_size = 32\n",
    "\n",
    "    # scheduler\n",
    "    warmup_prop = 0.1\n",
    "\n",
    "    # early stopping\n",
    "    early_stop = True\n",
    "    early_stop_patience = 5"
   ]
  },
  {
   "cell_type": "code",
   "execution_count": 4,
   "metadata": {},
   "outputs": [
    {
     "name": "stdout",
     "output_type": "stream",
     "text": [
      "4 fold Done. Best Loss: 0.01209 | Best Dice: 0.9362\n"
     ]
    }
   ],
   "source": [
    "save_config(Config, Config.log_dir + '/config.json')\n",
    "trainer = main(Config)"
   ]
  },
  {
   "cell_type": "code",
   "execution_count": 5,
   "metadata": {},
   "outputs": [
    {
     "data": {
      "text/plain": [
       "6"
      ]
     },
     "execution_count": 5,
     "metadata": {},
     "output_type": "execute_result"
    }
   ],
   "source": [
    "396 //60"
   ]
  }
 ],
 "metadata": {
  "kernelspec": {
   "display_name": "PyTorch",
   "language": "python",
   "name": "torch"
  },
  "language_info": {
   "codemirror_mode": {
    "name": "ipython",
    "version": 3
   },
   "file_extension": ".py",
   "mimetype": "text/x-python",
   "name": "python",
   "nbconvert_exporter": "python",
   "pygments_lexer": "ipython3",
   "version": "3.8.13"
  },
  "orig_nbformat": 4
 },
 "nbformat": 4,
 "nbformat_minor": 2
}
